{
 "cells": [
  {
   "cell_type": "code",
   "execution_count": 1,
   "id": "875b0e71",
   "metadata": {},
   "outputs": [
    {
     "name": "stdout",
     "output_type": "stream",
     "text": [
      "Requirement already satisfied: langchain-openai in c:\\users\\tessd\\ecomm-prod-assistant\\venv\\lib\\site-packages (0.3.33)\n",
      "Requirement already satisfied: langchain-core<1.0.0,>=0.3.76 in c:\\users\\tessd\\ecomm-prod-assistant\\venv\\lib\\site-packages (from langchain-openai) (0.3.76)\n",
      "Requirement already satisfied: openai<2.0.0,>=1.104.2 in c:\\users\\tessd\\ecomm-prod-assistant\\venv\\lib\\site-packages (from langchain-openai) (1.108.0)\n",
      "Requirement already satisfied: tiktoken<1,>=0.7 in c:\\users\\tessd\\ecomm-prod-assistant\\venv\\lib\\site-packages (from langchain-openai) (0.11.0)\n",
      "Requirement already satisfied: langsmith>=0.3.45 in c:\\users\\tessd\\ecomm-prod-assistant\\venv\\lib\\site-packages (from langchain-core<1.0.0,>=0.3.76->langchain-openai) (0.4.21)\n",
      "Requirement already satisfied: tenacity!=8.4.0,<10.0.0,>=8.1.0 in c:\\users\\tessd\\ecomm-prod-assistant\\venv\\lib\\site-packages (from langchain-core<1.0.0,>=0.3.76->langchain-openai) (9.1.2)\n",
      "Requirement already satisfied: jsonpatch<2.0,>=1.33 in c:\\users\\tessd\\ecomm-prod-assistant\\venv\\lib\\site-packages (from langchain-core<1.0.0,>=0.3.76->langchain-openai) (1.33)\n",
      "Requirement already satisfied: PyYAML>=5.3 in c:\\users\\tessd\\ecomm-prod-assistant\\venv\\lib\\site-packages (from langchain-core<1.0.0,>=0.3.76->langchain-openai) (6.0.2)\n",
      "Requirement already satisfied: typing-extensions>=4.7 in c:\\users\\tessd\\ecomm-prod-assistant\\venv\\lib\\site-packages (from langchain-core<1.0.0,>=0.3.76->langchain-openai) (4.14.1)\n",
      "Requirement already satisfied: packaging>=23.2 in c:\\users\\tessd\\ecomm-prod-assistant\\venv\\lib\\site-packages (from langchain-core<1.0.0,>=0.3.76->langchain-openai) (25.0)\n",
      "Requirement already satisfied: pydantic>=2.7.4 in c:\\users\\tessd\\ecomm-prod-assistant\\venv\\lib\\site-packages (from langchain-core<1.0.0,>=0.3.76->langchain-openai) (2.11.7)\n",
      "Requirement already satisfied: jsonpointer>=1.9 in c:\\users\\tessd\\ecomm-prod-assistant\\venv\\lib\\site-packages (from jsonpatch<2.0,>=1.33->langchain-core<1.0.0,>=0.3.76->langchain-openai) (3.0.0)\n",
      "Requirement already satisfied: anyio<5,>=3.5.0 in c:\\users\\tessd\\ecomm-prod-assistant\\venv\\lib\\site-packages (from openai<2.0.0,>=1.104.2->langchain-openai) (4.10.0)\n",
      "Requirement already satisfied: distro<2,>=1.7.0 in c:\\users\\tessd\\ecomm-prod-assistant\\venv\\lib\\site-packages (from openai<2.0.0,>=1.104.2->langchain-openai) (1.9.0)\n",
      "Requirement already satisfied: httpx<1,>=0.23.0 in c:\\users\\tessd\\ecomm-prod-assistant\\venv\\lib\\site-packages (from openai<2.0.0,>=1.104.2->langchain-openai) (0.28.1)\n",
      "Requirement already satisfied: jiter<1,>=0.4.0 in c:\\users\\tessd\\ecomm-prod-assistant\\venv\\lib\\site-packages (from openai<2.0.0,>=1.104.2->langchain-openai) (0.10.0)\n",
      "Requirement already satisfied: sniffio in c:\\users\\tessd\\ecomm-prod-assistant\\venv\\lib\\site-packages (from openai<2.0.0,>=1.104.2->langchain-openai) (1.3.1)\n",
      "Requirement already satisfied: tqdm>4 in c:\\users\\tessd\\ecomm-prod-assistant\\venv\\lib\\site-packages (from openai<2.0.0,>=1.104.2->langchain-openai) (4.67.1)\n",
      "Requirement already satisfied: exceptiongroup>=1.0.2 in c:\\users\\tessd\\ecomm-prod-assistant\\venv\\lib\\site-packages (from anyio<5,>=3.5.0->openai<2.0.0,>=1.104.2->langchain-openai) (1.3.0)\n",
      "Requirement already satisfied: idna>=2.8 in c:\\users\\tessd\\ecomm-prod-assistant\\venv\\lib\\site-packages (from anyio<5,>=3.5.0->openai<2.0.0,>=1.104.2->langchain-openai) (3.10)\n",
      "Requirement already satisfied: certifi in c:\\users\\tessd\\ecomm-prod-assistant\\venv\\lib\\site-packages (from httpx<1,>=0.23.0->openai<2.0.0,>=1.104.2->langchain-openai) (2025.8.3)\n",
      "Requirement already satisfied: httpcore==1.* in c:\\users\\tessd\\ecomm-prod-assistant\\venv\\lib\\site-packages (from httpx<1,>=0.23.0->openai<2.0.0,>=1.104.2->langchain-openai) (1.0.9)\n",
      "Requirement already satisfied: h11>=0.16 in c:\\users\\tessd\\ecomm-prod-assistant\\venv\\lib\\site-packages (from httpcore==1.*->httpx<1,>=0.23.0->openai<2.0.0,>=1.104.2->langchain-openai) (0.16.0)\n",
      "Requirement already satisfied: annotated-types>=0.6.0 in c:\\users\\tessd\\ecomm-prod-assistant\\venv\\lib\\site-packages (from pydantic>=2.7.4->langchain-core<1.0.0,>=0.3.76->langchain-openai) (0.7.0)\n",
      "Requirement already satisfied: pydantic-core==2.33.2 in c:\\users\\tessd\\ecomm-prod-assistant\\venv\\lib\\site-packages (from pydantic>=2.7.4->langchain-core<1.0.0,>=0.3.76->langchain-openai) (2.33.2)\n",
      "Requirement already satisfied: typing-inspection>=0.4.0 in c:\\users\\tessd\\ecomm-prod-assistant\\venv\\lib\\site-packages (from pydantic>=2.7.4->langchain-core<1.0.0,>=0.3.76->langchain-openai) (0.4.1)\n",
      "Requirement already satisfied: regex>=2022.1.18 in c:\\users\\tessd\\ecomm-prod-assistant\\venv\\lib\\site-packages (from tiktoken<1,>=0.7->langchain-openai) (2025.9.1)\n",
      "Requirement already satisfied: requests>=2.26.0 in c:\\users\\tessd\\ecomm-prod-assistant\\venv\\lib\\site-packages (from tiktoken<1,>=0.7->langchain-openai) (2.32.5)\n",
      "Requirement already satisfied: orjson>=3.9.14 in c:\\users\\tessd\\ecomm-prod-assistant\\venv\\lib\\site-packages (from langsmith>=0.3.45->langchain-core<1.0.0,>=0.3.76->langchain-openai) (3.11.3)\n",
      "Requirement already satisfied: requests-toolbelt>=1.0.0 in c:\\users\\tessd\\ecomm-prod-assistant\\venv\\lib\\site-packages (from langsmith>=0.3.45->langchain-core<1.0.0,>=0.3.76->langchain-openai) (1.0.0)\n",
      "Requirement already satisfied: zstandard>=0.23.0 in c:\\users\\tessd\\ecomm-prod-assistant\\venv\\lib\\site-packages (from langsmith>=0.3.45->langchain-core<1.0.0,>=0.3.76->langchain-openai) (0.24.0)\n",
      "Requirement already satisfied: charset_normalizer<4,>=2 in c:\\users\\tessd\\ecomm-prod-assistant\\venv\\lib\\site-packages (from requests>=2.26.0->tiktoken<1,>=0.7->langchain-openai) (3.4.3)\n",
      "Requirement already satisfied: urllib3<3,>=1.21.1 in c:\\users\\tessd\\ecomm-prod-assistant\\venv\\lib\\site-packages (from requests>=2.26.0->tiktoken<1,>=0.7->langchain-openai) (2.5.0)\n",
      "Requirement already satisfied: colorama in c:\\users\\tessd\\ecomm-prod-assistant\\venv\\lib\\site-packages (from tqdm>4->openai<2.0.0,>=1.104.2->langchain-openai) (0.4.6)\n",
      "Note: you may need to restart the kernel to use updated packages.\n"
     ]
    }
   ],
   "source": [
    "%pip install langchain-openai"
   ]
  },
  {
   "cell_type": "code",
   "execution_count": 2,
   "id": "082fdb71",
   "metadata": {},
   "outputs": [
    {
     "name": "stdout",
     "output_type": "stream",
     "text": [
      "Requirement already satisfied: unstructured[md] in c:\\users\\tessd\\ecomm-prod-assistant\\venv\\lib\\site-packages (0.18.15)Note: you may need to restart the kernel to use updated packages.\n",
      "\n",
      "Requirement already satisfied: charset-normalizer in c:\\users\\tessd\\ecomm-prod-assistant\\venv\\lib\\site-packages (from unstructured[md]) (3.4.3)\n",
      "Requirement already satisfied: filetype in c:\\users\\tessd\\ecomm-prod-assistant\\venv\\lib\\site-packages (from unstructured[md]) (1.2.0)\n",
      "Requirement already satisfied: python-magic in c:\\users\\tessd\\ecomm-prod-assistant\\venv\\lib\\site-packages (from unstructured[md]) (0.4.27)\n",
      "Requirement already satisfied: lxml in c:\\users\\tessd\\ecomm-prod-assistant\\venv\\lib\\site-packages (from unstructured[md]) (6.0.1)\n",
      "Requirement already satisfied: nltk in c:\\users\\tessd\\ecomm-prod-assistant\\venv\\lib\\site-packages (from unstructured[md]) (3.9.1)\n",
      "Requirement already satisfied: requests in c:\\users\\tessd\\ecomm-prod-assistant\\venv\\lib\\site-packages (from unstructured[md]) (2.32.5)\n",
      "Requirement already satisfied: beautifulsoup4 in c:\\users\\tessd\\ecomm-prod-assistant\\venv\\lib\\site-packages (from unstructured[md]) (4.13.5)\n",
      "Requirement already satisfied: emoji in c:\\users\\tessd\\ecomm-prod-assistant\\venv\\lib\\site-packages (from unstructured[md]) (2.14.1)\n",
      "Requirement already satisfied: dataclasses-json in c:\\users\\tessd\\ecomm-prod-assistant\\venv\\lib\\site-packages (from unstructured[md]) (0.6.7)\n",
      "Requirement already satisfied: python-iso639 in c:\\users\\tessd\\ecomm-prod-assistant\\venv\\lib\\site-packages (from unstructured[md]) (2025.2.18)\n",
      "Requirement already satisfied: langdetect in c:\\users\\tessd\\ecomm-prod-assistant\\venv\\lib\\site-packages (from unstructured[md]) (1.0.9)\n",
      "Requirement already satisfied: numpy in c:\\users\\tessd\\ecomm-prod-assistant\\venv\\lib\\site-packages (from unstructured[md]) (2.2.6)\n",
      "Requirement already satisfied: rapidfuzz in c:\\users\\tessd\\ecomm-prod-assistant\\venv\\lib\\site-packages (from unstructured[md]) (3.14.1)\n",
      "Requirement already satisfied: backoff in c:\\users\\tessd\\ecomm-prod-assistant\\venv\\lib\\site-packages (from unstructured[md]) (2.2.1)\n",
      "Requirement already satisfied: typing-extensions in c:\\users\\tessd\\ecomm-prod-assistant\\venv\\lib\\site-packages (from unstructured[md]) (4.14.1)\n",
      "Requirement already satisfied: unstructured-client in c:\\users\\tessd\\ecomm-prod-assistant\\venv\\lib\\site-packages (from unstructured[md]) (0.42.3)\n",
      "Requirement already satisfied: wrapt in c:\\users\\tessd\\ecomm-prod-assistant\\venv\\lib\\site-packages (from unstructured[md]) (1.17.3)\n",
      "Requirement already satisfied: tqdm in c:\\users\\tessd\\ecomm-prod-assistant\\venv\\lib\\site-packages (from unstructured[md]) (4.67.1)\n",
      "Requirement already satisfied: psutil in c:\\users\\tessd\\ecomm-prod-assistant\\venv\\lib\\site-packages (from unstructured[md]) (7.0.0)\n",
      "Requirement already satisfied: python-oxmsg in c:\\users\\tessd\\ecomm-prod-assistant\\venv\\lib\\site-packages (from unstructured[md]) (0.0.2)\n",
      "Requirement already satisfied: html5lib in c:\\users\\tessd\\ecomm-prod-assistant\\venv\\lib\\site-packages (from unstructured[md]) (1.1)\n",
      "Requirement already satisfied: markdown in c:\\users\\tessd\\ecomm-prod-assistant\\venv\\lib\\site-packages (from unstructured[md]) (3.9)\n",
      "Requirement already satisfied: soupsieve>1.2 in c:\\users\\tessd\\ecomm-prod-assistant\\venv\\lib\\site-packages (from beautifulsoup4->unstructured[md]) (2.8)\n",
      "Requirement already satisfied: marshmallow<4.0.0,>=3.18.0 in c:\\users\\tessd\\ecomm-prod-assistant\\venv\\lib\\site-packages (from dataclasses-json->unstructured[md]) (3.26.1)\n",
      "Requirement already satisfied: typing-inspect<1,>=0.4.0 in c:\\users\\tessd\\ecomm-prod-assistant\\venv\\lib\\site-packages (from dataclasses-json->unstructured[md]) (0.9.0)\n",
      "Requirement already satisfied: packaging>=17.0 in c:\\users\\tessd\\ecomm-prod-assistant\\venv\\lib\\site-packages (from marshmallow<4.0.0,>=3.18.0->dataclasses-json->unstructured[md]) (25.0)\n",
      "Requirement already satisfied: mypy-extensions>=0.3.0 in c:\\users\\tessd\\ecomm-prod-assistant\\venv\\lib\\site-packages (from typing-inspect<1,>=0.4.0->dataclasses-json->unstructured[md]) (1.1.0)\n",
      "Requirement already satisfied: six>=1.9 in c:\\users\\tessd\\ecomm-prod-assistant\\venv\\lib\\site-packages (from html5lib->unstructured[md]) (1.17.0)\n",
      "Requirement already satisfied: webencodings in c:\\users\\tessd\\ecomm-prod-assistant\\venv\\lib\\site-packages (from html5lib->unstructured[md]) (0.5.1)\n",
      "Requirement already satisfied: click in c:\\users\\tessd\\ecomm-prod-assistant\\venv\\lib\\site-packages (from nltk->unstructured[md]) (8.2.1)\n",
      "Requirement already satisfied: joblib in c:\\users\\tessd\\ecomm-prod-assistant\\venv\\lib\\site-packages (from nltk->unstructured[md]) (1.5.2)\n",
      "Requirement already satisfied: regex>=2021.8.3 in c:\\users\\tessd\\ecomm-prod-assistant\\venv\\lib\\site-packages (from nltk->unstructured[md]) (2025.9.1)\n",
      "Requirement already satisfied: colorama in c:\\users\\tessd\\ecomm-prod-assistant\\venv\\lib\\site-packages (from click->nltk->unstructured[md]) (0.4.6)\n",
      "Requirement already satisfied: olefile in c:\\users\\tessd\\ecomm-prod-assistant\\venv\\lib\\site-packages (from python-oxmsg->unstructured[md]) (0.47)\n",
      "Requirement already satisfied: idna<4,>=2.5 in c:\\users\\tessd\\ecomm-prod-assistant\\venv\\lib\\site-packages (from requests->unstructured[md]) (3.10)\n",
      "Requirement already satisfied: urllib3<3,>=1.21.1 in c:\\users\\tessd\\ecomm-prod-assistant\\venv\\lib\\site-packages (from requests->unstructured[md]) (2.5.0)\n",
      "Requirement already satisfied: certifi>=2017.4.17 in c:\\users\\tessd\\ecomm-prod-assistant\\venv\\lib\\site-packages (from requests->unstructured[md]) (2025.8.3)\n",
      "Requirement already satisfied: aiofiles>=24.1.0 in c:\\users\\tessd\\ecomm-prod-assistant\\venv\\lib\\site-packages (from unstructured-client->unstructured[md]) (24.1.0)\n",
      "Requirement already satisfied: cryptography>=3.1 in c:\\users\\tessd\\ecomm-prod-assistant\\venv\\lib\\site-packages (from unstructured-client->unstructured[md]) (46.0.1)\n",
      "Requirement already satisfied: httpcore>=1.0.9 in c:\\users\\tessd\\ecomm-prod-assistant\\venv\\lib\\site-packages (from unstructured-client->unstructured[md]) (1.0.9)\n",
      "Requirement already satisfied: httpx>=0.27.0 in c:\\users\\tessd\\ecomm-prod-assistant\\venv\\lib\\site-packages (from unstructured-client->unstructured[md]) (0.28.1)\n",
      "Requirement already satisfied: pydantic>=2.11.2 in c:\\users\\tessd\\ecomm-prod-assistant\\venv\\lib\\site-packages (from unstructured-client->unstructured[md]) (2.11.7)\n",
      "Requirement already satisfied: pypdf>=4.0 in c:\\users\\tessd\\ecomm-prod-assistant\\venv\\lib\\site-packages (from unstructured-client->unstructured[md]) (6.0.0)\n",
      "Requirement already satisfied: requests-toolbelt>=1.0.0 in c:\\users\\tessd\\ecomm-prod-assistant\\venv\\lib\\site-packages (from unstructured-client->unstructured[md]) (1.0.0)\n",
      "Requirement already satisfied: cffi>=2.0.0 in c:\\users\\tessd\\ecomm-prod-assistant\\venv\\lib\\site-packages (from cryptography>=3.1->unstructured-client->unstructured[md]) (2.0.0)\n",
      "Requirement already satisfied: pycparser in c:\\users\\tessd\\ecomm-prod-assistant\\venv\\lib\\site-packages (from cffi>=2.0.0->cryptography>=3.1->unstructured-client->unstructured[md]) (2.22)\n",
      "Requirement already satisfied: h11>=0.16 in c:\\users\\tessd\\ecomm-prod-assistant\\venv\\lib\\site-packages (from httpcore>=1.0.9->unstructured-client->unstructured[md]) (0.16.0)\n",
      "Requirement already satisfied: anyio in c:\\users\\tessd\\ecomm-prod-assistant\\venv\\lib\\site-packages (from httpx>=0.27.0->unstructured-client->unstructured[md]) (4.10.0)\n",
      "Requirement already satisfied: annotated-types>=0.6.0 in c:\\users\\tessd\\ecomm-prod-assistant\\venv\\lib\\site-packages (from pydantic>=2.11.2->unstructured-client->unstructured[md]) (0.7.0)\n",
      "Requirement already satisfied: pydantic-core==2.33.2 in c:\\users\\tessd\\ecomm-prod-assistant\\venv\\lib\\site-packages (from pydantic>=2.11.2->unstructured-client->unstructured[md]) (2.33.2)\n",
      "Requirement already satisfied: typing-inspection>=0.4.0 in c:\\users\\tessd\\ecomm-prod-assistant\\venv\\lib\\site-packages (from pydantic>=2.11.2->unstructured-client->unstructured[md]) (0.4.1)\n",
      "Requirement already satisfied: exceptiongroup>=1.0.2 in c:\\users\\tessd\\ecomm-prod-assistant\\venv\\lib\\site-packages (from anyio->httpx>=0.27.0->unstructured-client->unstructured[md]) (1.3.0)\n",
      "Requirement already satisfied: sniffio>=1.1 in c:\\users\\tessd\\ecomm-prod-assistant\\venv\\lib\\site-packages (from anyio->httpx>=0.27.0->unstructured-client->unstructured[md]) (1.3.1)\n"
     ]
    }
   ],
   "source": [
    "# %pip install unstructured\n",
    "%pip install \"unstructured[md]\""
   ]
  },
  {
   "cell_type": "code",
   "execution_count": 3,
   "id": "447c101a",
   "metadata": {},
   "outputs": [
    {
     "name": "stdout",
     "output_type": "stream",
     "text": [
      "Requirement already satisfied: libmagic in c:\\users\\tessd\\ecomm-prod-assistant\\venv\\lib\\site-packages (1.0)\n",
      "Note: you may need to restart the kernel to use updated packages.\n"
     ]
    }
   ],
   "source": [
    "%pip install libmagic"
   ]
  },
  {
   "cell_type": "code",
   "execution_count": 4,
   "id": "0f117791",
   "metadata": {},
   "outputs": [
    {
     "name": "stderr",
     "output_type": "stream",
     "text": [
      "libmagic is unavailable but assists in filetype detection. Please consider installing libmagic for better results.\n",
      "libmagic is unavailable but assists in filetype detection. Please consider installing libmagic for better results.\n",
      "libmagic is unavailable but assists in filetype detection. Please consider installing libmagic for better results.\n",
      "libmagic is unavailable but assists in filetype detection. Please consider installing libmagic for better results.\n"
     ]
    }
   ],
   "source": [
    "from langchain_community.document_loaders import DirectoryLoader\n",
    "\n",
    "path = \"Sample_Docs_Markdown/\"\n",
    "loader = DirectoryLoader(path, glob=\"**/*.md\")\n",
    "docs = loader.load()"
   ]
  },
  {
   "cell_type": "code",
   "execution_count": 5,
   "id": "5c3ab0bd",
   "metadata": {},
   "outputs": [
    {
     "name": "stdout",
     "output_type": "stream",
     "text": [
      "Requirement already satisfied: langchain-openai in c:\\users\\tessd\\ecomm-prod-assistant\\venv\\lib\\site-packages (0.3.33)\n",
      "Requirement already satisfied: langchain-core<1.0.0,>=0.3.76 in c:\\users\\tessd\\ecomm-prod-assistant\\venv\\lib\\site-packages (from langchain-openai) (0.3.76)\n",
      "Requirement already satisfied: openai<2.0.0,>=1.104.2 in c:\\users\\tessd\\ecomm-prod-assistant\\venv\\lib\\site-packages (from langchain-openai) (1.108.0)\n",
      "Requirement already satisfied: tiktoken<1,>=0.7 in c:\\users\\tessd\\ecomm-prod-assistant\\venv\\lib\\site-packages (from langchain-openai) (0.11.0)\n",
      "Requirement already satisfied: langsmith>=0.3.45 in c:\\users\\tessd\\ecomm-prod-assistant\\venv\\lib\\site-packages (from langchain-core<1.0.0,>=0.3.76->langchain-openai) (0.4.21)\n",
      "Requirement already satisfied: tenacity!=8.4.0,<10.0.0,>=8.1.0 in c:\\users\\tessd\\ecomm-prod-assistant\\venv\\lib\\site-packages (from langchain-core<1.0.0,>=0.3.76->langchain-openai) (9.1.2)\n",
      "Requirement already satisfied: jsonpatch<2.0,>=1.33 in c:\\users\\tessd\\ecomm-prod-assistant\\venv\\lib\\site-packages (from langchain-core<1.0.0,>=0.3.76->langchain-openai) (1.33)\n",
      "Requirement already satisfied: PyYAML>=5.3 in c:\\users\\tessd\\ecomm-prod-assistant\\venv\\lib\\site-packages (from langchain-core<1.0.0,>=0.3.76->langchain-openai) (6.0.2)\n",
      "Requirement already satisfied: typing-extensions>=4.7 in c:\\users\\tessd\\ecomm-prod-assistant\\venv\\lib\\site-packages (from langchain-core<1.0.0,>=0.3.76->langchain-openai) (4.14.1)\n",
      "Requirement already satisfied: packaging>=23.2 in c:\\users\\tessd\\ecomm-prod-assistant\\venv\\lib\\site-packages (from langchain-core<1.0.0,>=0.3.76->langchain-openai) (25.0)\n",
      "Requirement already satisfied: pydantic>=2.7.4 in c:\\users\\tessd\\ecomm-prod-assistant\\venv\\lib\\site-packages (from langchain-core<1.0.0,>=0.3.76->langchain-openai) (2.11.7)\n",
      "Requirement already satisfied: jsonpointer>=1.9 in c:\\users\\tessd\\ecomm-prod-assistant\\venv\\lib\\site-packages (from jsonpatch<2.0,>=1.33->langchain-core<1.0.0,>=0.3.76->langchain-openai) (3.0.0)\n",
      "Requirement already satisfied: anyio<5,>=3.5.0 in c:\\users\\tessd\\ecomm-prod-assistant\\venv\\lib\\site-packages (from openai<2.0.0,>=1.104.2->langchain-openai) (4.10.0)\n",
      "Requirement already satisfied: distro<2,>=1.7.0 in c:\\users\\tessd\\ecomm-prod-assistant\\venv\\lib\\site-packages (from openai<2.0.0,>=1.104.2->langchain-openai) (1.9.0)\n",
      "Requirement already satisfied: httpx<1,>=0.23.0 in c:\\users\\tessd\\ecomm-prod-assistant\\venv\\lib\\site-packages (from openai<2.0.0,>=1.104.2->langchain-openai) (0.28.1)\n",
      "Requirement already satisfied: jiter<1,>=0.4.0 in c:\\users\\tessd\\ecomm-prod-assistant\\venv\\lib\\site-packages (from openai<2.0.0,>=1.104.2->langchain-openai) (0.10.0)\n",
      "Requirement already satisfied: sniffio in c:\\users\\tessd\\ecomm-prod-assistant\\venv\\lib\\site-packages (from openai<2.0.0,>=1.104.2->langchain-openai) (1.3.1)\n",
      "Requirement already satisfied: tqdm>4 in c:\\users\\tessd\\ecomm-prod-assistant\\venv\\lib\\site-packages (from openai<2.0.0,>=1.104.2->langchain-openai) (4.67.1)\n",
      "Requirement already satisfied: exceptiongroup>=1.0.2 in c:\\users\\tessd\\ecomm-prod-assistant\\venv\\lib\\site-packages (from anyio<5,>=3.5.0->openai<2.0.0,>=1.104.2->langchain-openai) (1.3.0)\n",
      "Requirement already satisfied: idna>=2.8 in c:\\users\\tessd\\ecomm-prod-assistant\\venv\\lib\\site-packages (from anyio<5,>=3.5.0->openai<2.0.0,>=1.104.2->langchain-openai) (3.10)\n",
      "Requirement already satisfied: certifi in c:\\users\\tessd\\ecomm-prod-assistant\\venv\\lib\\site-packages (from httpx<1,>=0.23.0->openai<2.0.0,>=1.104.2->langchain-openai) (2025.8.3)\n",
      "Requirement already satisfied: httpcore==1.* in c:\\users\\tessd\\ecomm-prod-assistant\\venv\\lib\\site-packages (from httpx<1,>=0.23.0->openai<2.0.0,>=1.104.2->langchain-openai) (1.0.9)\n",
      "Requirement already satisfied: h11>=0.16 in c:\\users\\tessd\\ecomm-prod-assistant\\venv\\lib\\site-packages (from httpcore==1.*->httpx<1,>=0.23.0->openai<2.0.0,>=1.104.2->langchain-openai) (0.16.0)\n",
      "Requirement already satisfied: annotated-types>=0.6.0 in c:\\users\\tessd\\ecomm-prod-assistant\\venv\\lib\\site-packages (from pydantic>=2.7.4->langchain-core<1.0.0,>=0.3.76->langchain-openai) (0.7.0)\n",
      "Requirement already satisfied: pydantic-core==2.33.2 in c:\\users\\tessd\\ecomm-prod-assistant\\venv\\lib\\site-packages (from pydantic>=2.7.4->langchain-core<1.0.0,>=0.3.76->langchain-openai) (2.33.2)\n",
      "Requirement already satisfied: typing-inspection>=0.4.0 in c:\\users\\tessd\\ecomm-prod-assistant\\venv\\lib\\site-packages (from pydantic>=2.7.4->langchain-core<1.0.0,>=0.3.76->langchain-openai) (0.4.1)\n",
      "Requirement already satisfied: regex>=2022.1.18 in c:\\users\\tessd\\ecomm-prod-assistant\\venv\\lib\\site-packages (from tiktoken<1,>=0.7->langchain-openai) (2025.9.1)\n",
      "Requirement already satisfied: requests>=2.26.0 in c:\\users\\tessd\\ecomm-prod-assistant\\venv\\lib\\site-packages (from tiktoken<1,>=0.7->langchain-openai) (2.32.5)\n",
      "Requirement already satisfied: orjson>=3.9.14 in c:\\users\\tessd\\ecomm-prod-assistant\\venv\\lib\\site-packages (from langsmith>=0.3.45->langchain-core<1.0.0,>=0.3.76->langchain-openai) (3.11.3)\n",
      "Requirement already satisfied: requests-toolbelt>=1.0.0 in c:\\users\\tessd\\ecomm-prod-assistant\\venv\\lib\\site-packages (from langsmith>=0.3.45->langchain-core<1.0.0,>=0.3.76->langchain-openai) (1.0.0)\n",
      "Requirement already satisfied: zstandard>=0.23.0 in c:\\users\\tessd\\ecomm-prod-assistant\\venv\\lib\\site-packages (from langsmith>=0.3.45->langchain-core<1.0.0,>=0.3.76->langchain-openai) (0.24.0)\n",
      "Requirement already satisfied: charset_normalizer<4,>=2 in c:\\users\\tessd\\ecomm-prod-assistant\\venv\\lib\\site-packages (from requests>=2.26.0->tiktoken<1,>=0.7->langchain-openai) (3.4.3)\n",
      "Requirement already satisfied: urllib3<3,>=1.21.1 in c:\\users\\tessd\\ecomm-prod-assistant\\venv\\lib\\site-packages (from requests>=2.26.0->tiktoken<1,>=0.7->langchain-openai) (2.5.0)\n",
      "Requirement already satisfied: colorama in c:\\users\\tessd\\ecomm-prod-assistant\\venv\\lib\\site-packages (from tqdm>4->openai<2.0.0,>=1.104.2->langchain-openai) (0.4.6)\n",
      "Note: you may need to restart the kernel to use updated packages.\n"
     ]
    }
   ],
   "source": [
    "%pip install langchain-openai"
   ]
  },
  {
   "cell_type": "code",
   "execution_count": 6,
   "id": "7d54ed45",
   "metadata": {},
   "outputs": [
    {
     "name": "stdout",
     "output_type": "stream",
     "text": [
      "Loaded key? True\n"
     ]
    }
   ],
   "source": [
    "import os\n",
    "from dotenv import load_dotenv\n",
    "\n",
    "# Load variables from .env file\n",
    "load_dotenv()\n",
    "\n",
    "# Now you can access your key\n",
    "api_key = os.getenv(\"OPENAI_API_KEY\")\n",
    "print(\"Loaded key?\", api_key is not None)\n",
    "\n",
    "# (Optional) configure OpenAI client globally\n",
    "os.environ[\"OPENAI_API_KEY\"] = api_key"
   ]
  },
  {
   "cell_type": "code",
   "execution_count": 7,
   "id": "ab707e42",
   "metadata": {},
   "outputs": [
    {
     "name": "stderr",
     "output_type": "stream",
     "text": [
      "c:\\Users\\tessd\\ecomm-prod-assistant\\venv\\lib\\site-packages\\tqdm\\auto.py:21: TqdmWarning: IProgress not found. Please update jupyter and ipywidgets. See https://ipywidgets.readthedocs.io/en/stable/user_install.html\n",
      "  from .autonotebook import tqdm as notebook_tqdm\n"
     ]
    }
   ],
   "source": [
    "from ragas.llms import LangchainLLMWrapper\n",
    "from langchain_openai import ChatOpenAI, OpenAIEmbeddings\n",
    "from ragas.embeddings import OpenAIEmbeddings\n",
    "import openai\n",
    "\n",
    "generator_llm = LangchainLLMWrapper(ChatOpenAI(model=\"gpt-4o-mini\"))\n",
    "openai_client = openai.OpenAI()\n",
    "generator_embeddings = OpenAIEmbeddings(client=openai_client)"
   ]
  },
  {
   "cell_type": "code",
   "execution_count": 8,
   "id": "5a742206",
   "metadata": {},
   "outputs": [
    {
     "name": "stderr",
     "output_type": "stream",
     "text": [
      "Applying HeadlinesExtractor: 100%|██████████| 3/3 [00:02<00:00,  1.03it/s]\n",
      "Applying HeadlineSplitter: 100%|██████████| 4/4 [00:00<00:00, 1718.80it/s]\n",
      "Applying SummaryExtractor: 100%|██████████| 3/3 [00:04<00:00,  1.43s/it]\n",
      "Applying CustomNodeFilter: 100%|██████████| 11/11 [00:03<00:00,  3.08it/s]\n",
      "Applying EmbeddingExtractor: 100%|██████████| 3/3 [00:00<00:00, 2893.29it/s]\n",
      "Applying ThemesExtractor: 100%|██████████| 9/9 [00:03<00:00,  2.45it/s]\n",
      "Applying NERExtractor: 100%|██████████| 9/9 [00:03<00:00,  2.33it/s]\n"
     ]
    },
    {
     "ename": "ValueError",
     "evalue": "Node 340cc741-7df4-44da-b093-656cb29a9a6d has no summary_embedding",
     "output_type": "error",
     "traceback": [
      "\u001b[1;31m---------------------------------------------------------------------------\u001b[0m",
      "\u001b[1;31mValueError\u001b[0m                                Traceback (most recent call last)",
      "Cell \u001b[1;32mIn[8], line 4\u001b[0m\n\u001b[0;32m      1\u001b[0m \u001b[38;5;28;01mfrom\u001b[39;00m\u001b[38;5;250m \u001b[39m\u001b[38;5;21;01mragas\u001b[39;00m\u001b[38;5;21;01m.\u001b[39;00m\u001b[38;5;21;01mtestset\u001b[39;00m\u001b[38;5;250m \u001b[39m\u001b[38;5;28;01mimport\u001b[39;00m TestsetGenerator\n\u001b[0;32m      3\u001b[0m generator \u001b[38;5;241m=\u001b[39m TestsetGenerator(llm\u001b[38;5;241m=\u001b[39mgenerator_llm, embedding_model\u001b[38;5;241m=\u001b[39mgenerator_embeddings)\n\u001b[1;32m----> 4\u001b[0m dataset \u001b[38;5;241m=\u001b[39m \u001b[43mgenerator\u001b[49m\u001b[38;5;241;43m.\u001b[39;49m\u001b[43mgenerate_with_langchain_docs\u001b[49m\u001b[43m(\u001b[49m\u001b[43mdocs\u001b[49m\u001b[43m,\u001b[49m\u001b[43m \u001b[49m\u001b[43mtestset_size\u001b[49m\u001b[38;5;241;43m=\u001b[39;49m\u001b[38;5;241;43m10\u001b[39;49m\u001b[43m)\u001b[49m\n",
      "File \u001b[1;32mc:\\Users\\tessd\\ecomm-prod-assistant\\venv\\lib\\site-packages\\ragas\\testset\\synthesizers\\generate.py:191\u001b[0m, in \u001b[0;36mTestsetGenerator.generate_with_langchain_docs\u001b[1;34m(self, documents, testset_size, transforms, transforms_llm, transforms_embedding_model, query_distribution, run_config, callbacks, with_debugging_logs, raise_exceptions, return_executor)\u001b[0m\n\u001b[0;32m    188\u001b[0m kg \u001b[38;5;241m=\u001b[39m KnowledgeGraph(nodes\u001b[38;5;241m=\u001b[39mnodes)\n\u001b[0;32m    190\u001b[0m \u001b[38;5;66;03m# apply transforms and update the knowledge graph\u001b[39;00m\n\u001b[1;32m--> 191\u001b[0m \u001b[43mapply_transforms\u001b[49m\u001b[43m(\u001b[49m\u001b[43mkg\u001b[49m\u001b[43m,\u001b[49m\u001b[43m \u001b[49m\u001b[43mtransforms\u001b[49m\u001b[43m)\u001b[49m\n\u001b[0;32m    192\u001b[0m \u001b[38;5;28mself\u001b[39m\u001b[38;5;241m.\u001b[39mknowledge_graph \u001b[38;5;241m=\u001b[39m kg\n\u001b[0;32m    194\u001b[0m \u001b[38;5;28;01mreturn\u001b[39;00m \u001b[38;5;28mself\u001b[39m\u001b[38;5;241m.\u001b[39mgenerate(\n\u001b[0;32m    195\u001b[0m     testset_size\u001b[38;5;241m=\u001b[39mtestset_size,\n\u001b[0;32m    196\u001b[0m     query_distribution\u001b[38;5;241m=\u001b[39mquery_distribution,\n\u001b[1;32m   (...)\u001b[0m\n\u001b[0;32m    201\u001b[0m     return_executor\u001b[38;5;241m=\u001b[39mreturn_executor,\n\u001b[0;32m    202\u001b[0m )\n",
      "File \u001b[1;32mc:\\Users\\tessd\\ecomm-prod-assistant\\venv\\lib\\site-packages\\ragas\\testset\\transforms\\engine.py:91\u001b[0m, in \u001b[0;36mapply_transforms\u001b[1;34m(kg, transforms, run_config, callbacks)\u001b[0m\n\u001b[0;32m     89\u001b[0m \u001b[38;5;28;01mif\u001b[39;00m \u001b[38;5;28misinstance\u001b[39m(transforms, t\u001b[38;5;241m.\u001b[39mSequence):\n\u001b[0;32m     90\u001b[0m     \u001b[38;5;28;01mfor\u001b[39;00m transform \u001b[38;5;129;01min\u001b[39;00m transforms:\n\u001b[1;32m---> 91\u001b[0m         \u001b[43mapply_transforms\u001b[49m\u001b[43m(\u001b[49m\u001b[43mkg\u001b[49m\u001b[43m,\u001b[49m\u001b[43m \u001b[49m\u001b[43mtransform\u001b[49m\u001b[43m,\u001b[49m\u001b[43m \u001b[49m\u001b[43mrun_config\u001b[49m\u001b[43m,\u001b[49m\u001b[43m \u001b[49m\u001b[43mcallbacks\u001b[49m\u001b[43m)\u001b[49m\n\u001b[0;32m     92\u001b[0m \u001b[38;5;28;01melif\u001b[39;00m \u001b[38;5;28misinstance\u001b[39m(transforms, Parallel):\n\u001b[0;32m     93\u001b[0m     apply_transforms(kg, transforms\u001b[38;5;241m.\u001b[39mtransformations, run_config, callbacks)\n",
      "File \u001b[1;32mc:\\Users\\tessd\\ecomm-prod-assistant\\venv\\lib\\site-packages\\ragas\\testset\\transforms\\engine.py:93\u001b[0m, in \u001b[0;36mapply_transforms\u001b[1;34m(kg, transforms, run_config, callbacks)\u001b[0m\n\u001b[0;32m     91\u001b[0m         apply_transforms(kg, transform, run_config, callbacks)\n\u001b[0;32m     92\u001b[0m \u001b[38;5;28;01melif\u001b[39;00m \u001b[38;5;28misinstance\u001b[39m(transforms, Parallel):\n\u001b[1;32m---> 93\u001b[0m     \u001b[43mapply_transforms\u001b[49m\u001b[43m(\u001b[49m\u001b[43mkg\u001b[49m\u001b[43m,\u001b[49m\u001b[43m \u001b[49m\u001b[43mtransforms\u001b[49m\u001b[38;5;241;43m.\u001b[39;49m\u001b[43mtransformations\u001b[49m\u001b[43m,\u001b[49m\u001b[43m \u001b[49m\u001b[43mrun_config\u001b[49m\u001b[43m,\u001b[49m\u001b[43m \u001b[49m\u001b[43mcallbacks\u001b[49m\u001b[43m)\u001b[49m\n\u001b[0;32m     94\u001b[0m \u001b[38;5;28;01melif\u001b[39;00m \u001b[38;5;28misinstance\u001b[39m(transforms, BaseGraphTransformation):\n\u001b[0;32m     95\u001b[0m     logger\u001b[38;5;241m.\u001b[39mdebug(\n\u001b[0;32m     96\u001b[0m         \u001b[38;5;124mf\u001b[39m\u001b[38;5;124m\"\u001b[39m\u001b[38;5;124mGenerating execution plan for transformation \u001b[39m\u001b[38;5;132;01m{\u001b[39;00mtransforms\u001b[38;5;241m.\u001b[39m\u001b[38;5;18m__class__\u001b[39m\u001b[38;5;241m.\u001b[39m\u001b[38;5;18m__name__\u001b[39m\u001b[38;5;132;01m}\u001b[39;00m\u001b[38;5;124m\"\u001b[39m\n\u001b[0;32m     97\u001b[0m     )\n",
      "File \u001b[1;32mc:\\Users\\tessd\\ecomm-prod-assistant\\venv\\lib\\site-packages\\ragas\\testset\\transforms\\engine.py:91\u001b[0m, in \u001b[0;36mapply_transforms\u001b[1;34m(kg, transforms, run_config, callbacks)\u001b[0m\n\u001b[0;32m     89\u001b[0m \u001b[38;5;28;01mif\u001b[39;00m \u001b[38;5;28misinstance\u001b[39m(transforms, t\u001b[38;5;241m.\u001b[39mSequence):\n\u001b[0;32m     90\u001b[0m     \u001b[38;5;28;01mfor\u001b[39;00m transform \u001b[38;5;129;01min\u001b[39;00m transforms:\n\u001b[1;32m---> 91\u001b[0m         \u001b[43mapply_transforms\u001b[49m\u001b[43m(\u001b[49m\u001b[43mkg\u001b[49m\u001b[43m,\u001b[49m\u001b[43m \u001b[49m\u001b[43mtransform\u001b[49m\u001b[43m,\u001b[49m\u001b[43m \u001b[49m\u001b[43mrun_config\u001b[49m\u001b[43m,\u001b[49m\u001b[43m \u001b[49m\u001b[43mcallbacks\u001b[49m\u001b[43m)\u001b[49m\n\u001b[0;32m     92\u001b[0m \u001b[38;5;28;01melif\u001b[39;00m \u001b[38;5;28misinstance\u001b[39m(transforms, Parallel):\n\u001b[0;32m     93\u001b[0m     apply_transforms(kg, transforms\u001b[38;5;241m.\u001b[39mtransformations, run_config, callbacks)\n",
      "File \u001b[1;32mc:\\Users\\tessd\\ecomm-prod-assistant\\venv\\lib\\site-packages\\ragas\\testset\\transforms\\engine.py:98\u001b[0m, in \u001b[0;36mapply_transforms\u001b[1;34m(kg, transforms, run_config, callbacks)\u001b[0m\n\u001b[0;32m     94\u001b[0m \u001b[38;5;28;01melif\u001b[39;00m \u001b[38;5;28misinstance\u001b[39m(transforms, BaseGraphTransformation):\n\u001b[0;32m     95\u001b[0m     logger\u001b[38;5;241m.\u001b[39mdebug(\n\u001b[0;32m     96\u001b[0m         \u001b[38;5;124mf\u001b[39m\u001b[38;5;124m\"\u001b[39m\u001b[38;5;124mGenerating execution plan for transformation \u001b[39m\u001b[38;5;132;01m{\u001b[39;00mtransforms\u001b[38;5;241m.\u001b[39m\u001b[38;5;18m__class__\u001b[39m\u001b[38;5;241m.\u001b[39m\u001b[38;5;18m__name__\u001b[39m\u001b[38;5;132;01m}\u001b[39;00m\u001b[38;5;124m\"\u001b[39m\n\u001b[0;32m     97\u001b[0m     )\n\u001b[1;32m---> 98\u001b[0m     coros \u001b[38;5;241m=\u001b[39m \u001b[43mtransforms\u001b[49m\u001b[38;5;241;43m.\u001b[39;49m\u001b[43mgenerate_execution_plan\u001b[49m\u001b[43m(\u001b[49m\u001b[43mkg\u001b[49m\u001b[43m)\u001b[49m\n\u001b[0;32m     99\u001b[0m     desc \u001b[38;5;241m=\u001b[39m get_desc(transforms)\n\u001b[0;32m    100\u001b[0m     run_async_tasks(\n\u001b[0;32m    101\u001b[0m         coros,\n\u001b[0;32m    102\u001b[0m         batch_size\u001b[38;5;241m=\u001b[39m\u001b[38;5;28;01mNone\u001b[39;00m,\n\u001b[1;32m   (...)\u001b[0m\n\u001b[0;32m    105\u001b[0m         max_workers\u001b[38;5;241m=\u001b[39mmax_workers,\n\u001b[0;32m    106\u001b[0m     )\n",
      "File \u001b[1;32mc:\\Users\\tessd\\ecomm-prod-assistant\\venv\\lib\\site-packages\\ragas\\testset\\transforms\\relationship_builders\\cosine.py:93\u001b[0m, in \u001b[0;36mCosineSimilarityBuilder.generate_execution_plan\u001b[1;34m(self, kg)\u001b[0m\n\u001b[0;32m     91\u001b[0m     embedding \u001b[38;5;241m=\u001b[39m node\u001b[38;5;241m.\u001b[39mget_property(\u001b[38;5;28mself\u001b[39m\u001b[38;5;241m.\u001b[39mproperty_name)\n\u001b[0;32m     92\u001b[0m     \u001b[38;5;28;01mif\u001b[39;00m embedding \u001b[38;5;129;01mis\u001b[39;00m \u001b[38;5;28;01mNone\u001b[39;00m:\n\u001b[1;32m---> 93\u001b[0m         \u001b[38;5;28;01mraise\u001b[39;00m \u001b[38;5;167;01mValueError\u001b[39;00m(\u001b[38;5;124mf\u001b[39m\u001b[38;5;124m\"\u001b[39m\u001b[38;5;124mNode \u001b[39m\u001b[38;5;132;01m{\u001b[39;00mnode\u001b[38;5;241m.\u001b[39mid\u001b[38;5;132;01m}\u001b[39;00m\u001b[38;5;124m has no \u001b[39m\u001b[38;5;132;01m{\u001b[39;00m\u001b[38;5;28mself\u001b[39m\u001b[38;5;241m.\u001b[39mproperty_name\u001b[38;5;132;01m}\u001b[39;00m\u001b[38;5;124m\"\u001b[39m)\n\u001b[0;32m     94\u001b[0m     embeddings\u001b[38;5;241m.\u001b[39mappend(embedding)\n\u001b[0;32m     95\u001b[0m \u001b[38;5;28mself\u001b[39m\u001b[38;5;241m.\u001b[39m_validate_embedding_shapes(embeddings)\n",
      "\u001b[1;31mValueError\u001b[0m: Node 340cc741-7df4-44da-b093-656cb29a9a6d has no summary_embedding"
     ]
    }
   ],
   "source": [
    "from ragas.testset import TestsetGenerator\n",
    "\n",
    "generator = TestsetGenerator(llm=generator_llm, embedding_model=generator_embeddings)\n",
    "dataset = generator.generate_with_langchain_docs(docs, testset_size=10)"
   ]
  }
 ],
 "metadata": {
  "kernelspec": {
   "display_name": "ecomm-prod-assistant",
   "language": "python",
   "name": "python3"
  },
  "language_info": {
   "codemirror_mode": {
    "name": "ipython",
    "version": 3
   },
   "file_extension": ".py",
   "mimetype": "text/x-python",
   "name": "python",
   "nbconvert_exporter": "python",
   "pygments_lexer": "ipython3",
   "version": "3.10.18"
  }
 },
 "nbformat": 4,
 "nbformat_minor": 5
}
